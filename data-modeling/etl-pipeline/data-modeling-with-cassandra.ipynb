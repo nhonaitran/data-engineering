{
 "cells": [
  {
   "cell_type": "code",
   "execution_count": null,
   "metadata": {},
   "outputs": [],
   "source": []
  },
  {
   "source": [
    "## Cassandra database Model for Analyzing Songs And User Listening Activities"
   ],
   "cell_type": "markdown",
   "metadata": {}
  },
  {
   "source": [
    "The event data, collected by Sparkify Music Streaming app, is comprised of CSV files for one day per file, stored in /data/event_data/ directory.\n",
    "\n",
    "This project design a NoSQL database using Apache Cassandra to analyze the data collected on songs and user activity on by Sparkify''s new music streaming app. This database is designed to allow the analysis team to query the data to understand what songs users are listening to. \n",
    "\n",
    "This notebook includes two major components: \n",
    "I. ETL pipeline for pre-processing the event files into csv file for importing into the database, and\n",
    "II. Using the processed csv data file, design and create tables suitable for running specific queries"
   ],
   "cell_type": "markdown",
   "metadata": {}
  },
  {
   "cell_type": "markdown",
   "metadata": {},
   "source": [
    "### Part I. ETL Pipeline for Pre-Processing the Files"
   ]
  },
  {
   "source": [
    "#### Import Python packages "
   ],
   "cell_type": "markdown",
   "metadata": {}
  },
  {
   "cell_type": "code",
   "execution_count": 37,
   "metadata": {},
   "outputs": [],
   "source": [
    "import pandas as pd\n",
    "import cassandra\n",
    "import re\n",
    "import os\n",
    "import glob\n",
    "import numpy as np\n",
    "import json\n",
    "import csv"
   ]
  },
  {
   "cell_type": "markdown",
   "metadata": {},
   "source": [
    "#### Creating list of filepaths to process original event csv data files"
   ]
  },
  {
   "cell_type": "code",
   "execution_count": 38,
   "metadata": {},
   "outputs": [
    {
     "output_type": "stream",
     "name": "stdout",
     "text": [
      "/Users/ai.tran/src/data-engineering/data-modeling/etl-pipeline\n"
     ]
    }
   ],
   "source": [
    "# checking your current working directory\n",
    "print(os.getcwd())\n",
    "\n",
    "# Get your current folder and subfolder event data\n",
    "filepath = os.getcwd() + '/data/event_data'\n",
    "\n",
    "# Create a for loop to create a list of files and collect each filepath\n",
    "for root, dirs, files in os.walk(filepath):\n",
    "    \n",
    "# join the file path and roots with the subdirectories using glob\n",
    "    file_path_list = glob.glob(os.path.join(root,'*'))\n",
    "    "
   ]
  },
  {
   "cell_type": "markdown",
   "metadata": {},
   "source": [
    "#### Processing the files to create the data file csv that will be used for Apache Casssandra tables"
   ]
  },
  {
   "cell_type": "code",
   "execution_count": 39,
   "metadata": {
    "tags": []
   },
   "outputs": [],
   "source": [
    "# specify the name of the file in which the extracted data is stored\n",
    "processed_events_file = os.getcwd() + '/data/processed_events/event_datafile_new.csv'\n",
    "\n",
    "# initiating an empty list of rows that will be generated from each file\n",
    "full_data_rows_list = [] \n",
    "    \n",
    "# for every filepath in the file path list \n",
    "for f in file_path_list:\n",
    "    #print(f)\n",
    "# reading csv file \n",
    "    with open(f, 'r', encoding = 'utf8', newline='') as csvfile: \n",
    "        # creating a csv reader object \n",
    "        csvreader = csv.reader(csvfile) \n",
    "        next(csvreader)\n",
    "        \n",
    " # extracting each data row one by one and append it        \n",
    "        for line in csvreader:\n",
    "            #print(line)\n",
    "            full_data_rows_list.append(line) \n",
    "            \n",
    "# uncomment the code below if you would like to get total number of rows \n",
    "#print(len(full_data_rows_list))\n",
    "# uncomment the code below if you would like to check to see what the list of event data rows will look like\n",
    "#print(full_data_rows_list)\n",
    "\n",
    "# creating a smaller event data csv file called event_datafile_full csv that will be used to insert data into the \\\n",
    "# Apache Cassandra tables\n",
    "csv.register_dialect('myDialect', quoting=csv.QUOTE_ALL, skipinitialspace=True)\n",
    "\n",
    "with open(processed_events_file, 'w', encoding = 'utf8', newline='') as f:\n",
    "    writer = csv.writer(f, dialect='myDialect')\n",
    "    writer.writerow(['artist','firstName','gender','itemInSession','lastName','length',\\\n",
    "                'level','location','sessionId','song','userId'])\n",
    "    for row in full_data_rows_list:\n",
    "        if (row[0] == ''):\n",
    "            continue\n",
    "        writer.writerow((row[0], row[2], row[3], row[4], row[5], row[6], row[7], row[8], row[12], row[13], row[16]))\n"
   ]
  },
  {
   "cell_type": "code",
   "execution_count": 40,
   "metadata": {},
   "outputs": [
    {
     "output_type": "execute_result",
     "data": {
      "text/plain": [
       "        artist firstName gender  itemInSession  lastName     length level  \\\n",
       "0     Harmonia      Ryan      M              0     Smith  655.77751  free   \n",
       "1  The Prodigy      Ryan      M              1     Smith  260.07465  free   \n",
       "2        Train      Ryan      M              2     Smith  205.45261  free   \n",
       "3  Sony Wonder    Samuel      M              0  Gonzalez  218.06975  free   \n",
       "4    Van Halen     Tegan      F              2    Levine  289.38404  paid   \n",
       "\n",
       "                               location  sessionId  \\\n",
       "0    San Jose-Sunnyvale-Santa Clara, CA        583   \n",
       "1    San Jose-Sunnyvale-Santa Clara, CA        583   \n",
       "2    San Jose-Sunnyvale-Santa Clara, CA        583   \n",
       "3  Houston-The Woodlands-Sugar Land, TX        597   \n",
       "4           Portland-South Portland, ME        602   \n",
       "\n",
       "                                             song  userId  \n",
       "0                                   Sehr kosmisch      26  \n",
       "1                                 The Big Gundown      26  \n",
       "2                                        Marry Me      26  \n",
       "3                                       Blackbird      61  \n",
       "4  Best Of Both Worlds (Remastered Album Version)      80  "
      ],
      "text/html": "<div>\n<style scoped>\n    .dataframe tbody tr th:only-of-type {\n        vertical-align: middle;\n    }\n\n    .dataframe tbody tr th {\n        vertical-align: top;\n    }\n\n    .dataframe thead th {\n        text-align: right;\n    }\n</style>\n<table border=\"1\" class=\"dataframe\">\n  <thead>\n    <tr style=\"text-align: right;\">\n      <th></th>\n      <th>artist</th>\n      <th>firstName</th>\n      <th>gender</th>\n      <th>itemInSession</th>\n      <th>lastName</th>\n      <th>length</th>\n      <th>level</th>\n      <th>location</th>\n      <th>sessionId</th>\n      <th>song</th>\n      <th>userId</th>\n    </tr>\n  </thead>\n  <tbody>\n    <tr>\n      <th>0</th>\n      <td>Harmonia</td>\n      <td>Ryan</td>\n      <td>M</td>\n      <td>0</td>\n      <td>Smith</td>\n      <td>655.77751</td>\n      <td>free</td>\n      <td>San Jose-Sunnyvale-Santa Clara, CA</td>\n      <td>583</td>\n      <td>Sehr kosmisch</td>\n      <td>26</td>\n    </tr>\n    <tr>\n      <th>1</th>\n      <td>The Prodigy</td>\n      <td>Ryan</td>\n      <td>M</td>\n      <td>1</td>\n      <td>Smith</td>\n      <td>260.07465</td>\n      <td>free</td>\n      <td>San Jose-Sunnyvale-Santa Clara, CA</td>\n      <td>583</td>\n      <td>The Big Gundown</td>\n      <td>26</td>\n    </tr>\n    <tr>\n      <th>2</th>\n      <td>Train</td>\n      <td>Ryan</td>\n      <td>M</td>\n      <td>2</td>\n      <td>Smith</td>\n      <td>205.45261</td>\n      <td>free</td>\n      <td>San Jose-Sunnyvale-Santa Clara, CA</td>\n      <td>583</td>\n      <td>Marry Me</td>\n      <td>26</td>\n    </tr>\n    <tr>\n      <th>3</th>\n      <td>Sony Wonder</td>\n      <td>Samuel</td>\n      <td>M</td>\n      <td>0</td>\n      <td>Gonzalez</td>\n      <td>218.06975</td>\n      <td>free</td>\n      <td>Houston-The Woodlands-Sugar Land, TX</td>\n      <td>597</td>\n      <td>Blackbird</td>\n      <td>61</td>\n    </tr>\n    <tr>\n      <th>4</th>\n      <td>Van Halen</td>\n      <td>Tegan</td>\n      <td>F</td>\n      <td>2</td>\n      <td>Levine</td>\n      <td>289.38404</td>\n      <td>paid</td>\n      <td>Portland-South Portland, ME</td>\n      <td>602</td>\n      <td>Best Of Both Worlds (Remastered Album Version)</td>\n      <td>80</td>\n    </tr>\n  </tbody>\n</table>\n</div>"
     },
     "metadata": {},
     "execution_count": 40
    }
   ],
   "source": [
    "# check the number of rows in your csv file\n",
    "#with open(processed_events_file, 'r', encoding = 'utf8') as f:\n",
    "#    print(sum(1 for line in f))\n",
    "\n",
    "df = pd.read_csv(processed_events_file, header=0)\n",
    "df.head()"
   ]
  },
  {
   "cell_type": "code",
   "execution_count": 41,
   "metadata": {},
   "outputs": [
    {
     "output_type": "execute_result",
     "data": {
      "text/plain": [
       "(6820, 11)"
      ]
     },
     "metadata": {},
     "execution_count": 41
    }
   ],
   "source": [
    "df.shape"
   ]
  },
  {
   "cell_type": "markdown",
   "metadata": {},
   "source": [
    "### Part II. Complete the Apache Cassandra coding portion of your project. \n",
    "\n",
    "#### Now you are ready to work with the CSV file titled <font color=red>event_datafile_new.csv</font>, located within the Workspace directory.  The event_datafile_new.csv contains the following columns: \n",
    "- artist \n",
    "- firstName of user\n",
    "- gender of user\n",
    "- item number in session\n",
    "- last name of user\n",
    "- length of the song\n",
    "- level (paid or free song)\n",
    "- location of the user\n",
    "- sessionId\n",
    "- song title\n",
    "- userId\n",
    "\n",
    "The image below is a screenshot of what the denormalized data should appear like in the <font color=red>**event_datafile_new.csv**</font> after the code above is run:<br>\n",
    "\n",
    "<img src=\"assets/image_event_datafile_new.jpg\">"
   ]
  },
  {
   "cell_type": "markdown",
   "metadata": {},
   "source": [
    "#### Creating a Cluster"
   ]
  },
  {
   "cell_type": "code",
   "execution_count": 42,
   "metadata": {},
   "outputs": [],
   "source": [
    "# This should make a connection to a Cassandra instance your local machine \n",
    "# (127.0.0.1)\n",
    "try:\n",
    "    from cassandra.cluster import Cluster\n",
    "    cluster = Cluster(['127.0.0.1'], 6000)\n",
    "\n",
    "    # To establish connection and begin executing queries, need a session\n",
    "    session = cluster.connect()\n",
    "except Exception as e:\n",
    "    print(e)"
   ]
  },
  {
   "cell_type": "markdown",
   "metadata": {},
   "source": [
    "#### Create Keyspace"
   ]
  },
  {
   "cell_type": "code",
   "execution_count": 43,
   "metadata": {},
   "outputs": [],
   "source": [
    "# Create a Keyspace\n",
    "try:\n",
    "    session.execute(\"\"\"\n",
    "        CREATE KEYSPACE IF NOT EXISTS udacity\n",
    "        WITH REPLICATION = {'class':'SimpleStrategy', 'replication_factor':1}\n",
    "    \"\"\")\n",
    "except Exception as e:\n",
    "    print(e)"
   ]
  },
  {
   "cell_type": "markdown",
   "metadata": {},
   "source": [
    "#### Set Keyspace"
   ]
  },
  {
   "cell_type": "code",
   "execution_count": 44,
   "metadata": {},
   "outputs": [],
   "source": [
    "# Set KEYSPACE to the keyspace specified above\n",
    "try:\n",
    "    session.set_keyspace('udacity')\n",
    "except Exception as e:\n",
    "    print(e)"
   ]
  },
  {
   "cell_type": "markdown",
   "metadata": {},
   "source": [
    "#### Now we need to create tables to run the following queries. Remember, with Apache Cassandra you model the database tables on the queries you want to run."
   ]
  },
  {
   "cell_type": "code",
   "execution_count": 45,
   "metadata": {},
   "outputs": [],
   "source": [
    "def create_table(session, table_name, table_columns, primary_keys, clustering_keys=None):\n",
    "    \"\"\" \n",
    "        Create a table in current name space from given statement.\n",
    "        This includes running `drop table` operation first to ensure \n",
    "        existing table is deleted prior to creating a new one.\n",
    "    \"\"\"\n",
    "\n",
    "    if session is None or table_name is None or table_columns is None or primary_keys is None or len(primary_keys) == 0:\n",
    "        print(\"Must provide active session, table name and columns plus data type, and one or more primary keys\")\n",
    "        return\n",
    "\n",
    "    ## drop existing table with same name\n",
    "    drop_table(session, table_name)\n",
    "        \n",
    "    try:\n",
    "        ## declare table\n",
    "        create_stmt = f\"CREATE TABLE IF NOT EXISTS {table_name} (\"\n",
    "\n",
    "        ## define columns in table with their corresponding data type\n",
    "        for column_name, data_type in table_columns:\n",
    "            create_stmt = create_stmt + f\"{column_name} {data_type}, \"\n",
    "\n",
    "        ## define primary keys for table\n",
    "        create_stmt = create_stmt + f\"PRIMARY KEY (({', '.join(primary_keys)})\"\n",
    "\n",
    "        ## append clustering keys for sorting if given\n",
    "        if clustering_keys is not None:\n",
    "            create_stmt = create_stmt + f\", {', '.join(clustering_keys)}\"\n",
    "        create_stmt = create_stmt + \"))\"\n",
    "\n",
    "        print(create_stmt)\n",
    "        ## execute create operation\n",
    "        session.execute(create_stmt)\n",
    "    except Exception as e:\n",
    "        print(e)\n",
    "\n",
    "\n",
    "def populate_table(session, table_name, table_columns):\n",
    "    \"\"\" Populate the table with data extracted from given data file \"\"\"\n",
    "\n",
    "    if session is None or table_name is None or table_columns is None:\n",
    "        print(\"Must provide active session, table name plus columns plus data type\")\n",
    "        return\n",
    "\n",
    "    insert_stmt = f\"INSERT INTO {table_name} ({', '.join(table_columns)}) VALUES ({'%s, '*(len(table_columns)-1)}%s)\"\n",
    "    try:\n",
    "        #df = pd.read_csv(datafile, header=0)\n",
    "        [session.execute(insert_stmt, tuple(row)) for row in df[table_columns].to_numpy()]\n",
    "    except Exception as e:\n",
    "        print(e)\n",
    "\n",
    "\n",
    "def fetch(session, query):\n",
    "    \"\"\" Fetch data from database using given query statement \"\"\"\n",
    "\n",
    "    if session is None or query is None:\n",
    "        print(\"Must provide active session, and query to execute\")\n",
    "        return\n",
    "\n",
    "    try:\n",
    "        rows = session.execute(query)\n",
    "        print(f\"===== Query: =======\\n{query}\\n\")\n",
    "        print( \"===== Results: =====\")\n",
    "        [print(row) for row in rows]\n",
    "    except Exception as e:\n",
    "        print(e)\n",
    "    \n",
    "\n",
    "def drop_table(session, table_name):\n",
    "    \"\"\" Drop the given table from keyspace of given session \"\"\"\n",
    "\n",
    "    drop_stmt = f\"DROP TABLE IF EXISTS {table_name}\"\n",
    "    try:\n",
    "        session.execute(drop_stmt)\n",
    "    except Exception as e:\n",
    "        print(e)"
   ]
  },
  {
   "cell_type": "markdown",
   "metadata": {},
   "source": [
    "### Create queries to ask the following three questions of the data\n",
    "\n",
    "#### 1. Give me the artist, song title and song's length in the music app history that was heard during  sessionId = 338, and itemInSession  = 4\n",
    "\n",
    "\n",
    "#### 2. Give me only the following: name of artist, song (sorted by itemInSession) and user (first and last name) for userid = 10, sessionid = 182\n",
    "    \n",
    "\n",
    "#### 3. Give me every user name (first and last) in my music app history who listened to the song 'All Hands Against His Own'\n",
    "\n",
    "\n"
   ]
  },
  {
   "cell_type": "code",
   "execution_count": 46,
   "metadata": {
    "tags": []
   },
   "outputs": [
    {
     "output_type": "stream",
     "name": "stdout",
     "text": [
      "CREATE TABLE IF NOT EXISTS music_app_history (sessionId int, itemInSession int, artist text, song text, length float, PRIMARY KEY ((sessionId, itemInSession)))\n",
      "===== Query: =======\n",
      "\n",
      "    SELECT artist, song, length\n",
      "    FROM music_app_history\n",
      "    WHERE sessionId=338 AND itemInSession=4\n",
      "\n",
      "===== Results: =====\n",
      "Row(artist='Faithless', song='Music Matters (Mark Knight Dub)', length=495.30731201171875)\n"
     ]
    }
   ],
   "source": [
    "## Query 1:  Give me the artist, song title and song's length in the music app history that was heard during \\\n",
    "## sessionId = 338, and itemInSession = 4\n",
    "table_name = \"music_app_history\"\n",
    "\n",
    "## create a table for storing data\n",
    "create_table(session, \n",
    "    table_name=table_name, \n",
    "    table_columns=[('sessionId','int'), ('itemInSession','int'), ('artist','text'), ('song','text'), ('length','float')], \n",
    "    primary_keys=('sessionId', 'itemInSession')\n",
    ")\n",
    "\n",
    "## populate the table with data extracted from given data file\n",
    "populate_table(session, table_name, ['sessionId', 'itemInSession', 'artist', 'song', 'length'])\n",
    "\n",
    "## Add in the SELECT statement to verify the data was entered into the table\n",
    "query = f\"\"\"\n",
    "    SELECT artist, song, length\n",
    "    FROM {table_name}\n",
    "    WHERE sessionId=338 AND itemInSession=4\"\"\"\n",
    "fetch(session, query)"
   ]
  },
  {
   "cell_type": "code",
   "execution_count": 47,
   "metadata": {},
   "outputs": [
    {
     "output_type": "stream",
     "name": "stdout",
     "text": [
      "CREATE TABLE IF NOT EXISTS music_app_history (userId int, sessionId int, itemInSession int, artist text, song text, firstName text, lastName text, PRIMARY KEY ((userId, sessionId), itemInSession))\n",
      "===== Query: =======\n",
      "\n",
      "    SELECT artist, song, firstName, lastName\n",
      "    FROM music_app_history\n",
      "    WHERE userId=10 AND sessionId=182 \n",
      "    ORDER BY itemInSession\n",
      "\n",
      "===== Results: =====\n",
      "Row(artist='Down To The Bone', song=\"Keep On Keepin' On\", firstname='Sylvie', lastname='Cruz')\n",
      "Row(artist='Three Drives', song='Greece 2000', firstname='Sylvie', lastname='Cruz')\n",
      "Row(artist='Sebastien Tellier', song='Kilometer', firstname='Sylvie', lastname='Cruz')\n",
      "Row(artist='Lonnie Gordon', song='Catch You Baby (Steve Pitron & Max Sanna Radio Edit)', firstname='Sylvie', lastname='Cruz')\n"
     ]
    }
   ],
   "source": [
    "## Query 2: Give me only the following: name of artist, song (sorted by itemInSession) and user (first and last name)\\\n",
    "## for userid = 10, sessionid = 182\n",
    "create_table(session, \n",
    "    table_name=table_name, \n",
    "    table_columns=[('userId','int'), ('sessionId','int'), ('itemInSession','int'), ('artist','text'), ('song','text'), ('firstName','text'), ('lastName','text')], \n",
    "    primary_keys=['userId', 'sessionId'],\n",
    "    clustering_keys=['itemInSession']\n",
    ")\n",
    "\n",
    "populate_table(session, table_name, ['userId', 'sessionId', 'itemInSession', 'artist', 'song', 'firstName', 'lastName'])\n",
    "\n",
    "query = f\"\"\"\n",
    "    SELECT artist, song, firstName, lastName\n",
    "    FROM {table_name}\n",
    "    WHERE userId=10 AND sessionId=182 \n",
    "    ORDER BY itemInSession\"\"\"\n",
    "fetch(session, query)"
   ]
  },
  {
   "cell_type": "code",
   "execution_count": 48,
   "metadata": {},
   "outputs": [
    {
     "output_type": "stream",
     "name": "stdout",
     "text": [
      "CREATE TABLE IF NOT EXISTS music_app_history (song text, userId int, firstName text, lastName text, PRIMARY KEY ((song), userId))\n",
      "===== Query: =======\n",
      "\n",
      "    SELECT firstName, lastName \n",
      "    FROM music_app_history \n",
      "    WHERE song='All Hands Against His Own'\n",
      "\n",
      "===== Results: =====\n",
      "Row(firstname='Jacqueline', lastname='Lynch')\n",
      "Row(firstname='Tegan', lastname='Levine')\n",
      "Row(firstname='Sara', lastname='Johnson')\n"
     ]
    }
   ],
   "source": [
    "## Query 3: Give me every user name (first and last) in my music app history who listened to the song 'All Hands Against His Own'\n",
    "create_table(session, \n",
    "    table_name=table_name, \n",
    "    table_columns=[('song','text'), ('userId','int'), ('firstName','text'), ('lastName','text')], \n",
    "    primary_keys=['song'],\n",
    "    clustering_keys=['userId']\n",
    ")\n",
    "\n",
    "populate_table(session, table_name, ['song', 'userId', 'firstName', 'lastName'])\n",
    "\n",
    "query = f\"\"\"\n",
    "    SELECT firstName, lastName \n",
    "    FROM {table_name} \n",
    "    WHERE song='All Hands Against His Own'\"\"\"\n",
    "fetch(session, query)               "
   ]
  },
  {
   "cell_type": "markdown",
   "metadata": {},
   "source": [
    "#### Drop the tables before closing out the sessions"
   ]
  },
  {
   "cell_type": "code",
   "execution_count": 49,
   "metadata": {},
   "outputs": [],
   "source": [
    "## Drop the table before closing out the sessions\n",
    "drop_table(session, table_name)\n"
   ]
  },
  {
   "cell_type": "markdown",
   "metadata": {},
   "source": [
    "#### Close the session and cluster connection¶"
   ]
  },
  {
   "cell_type": "code",
   "execution_count": 50,
   "metadata": {},
   "outputs": [],
   "source": [
    "session.shutdown()\n",
    "cluster.shutdown()"
   ]
  },
  {
   "cell_type": "code",
   "execution_count": null,
   "metadata": {},
   "outputs": [],
   "source": []
  }
 ],
 "metadata": {
  "kernelspec": {
   "display_name": "Python 3",
   "language": "python",
   "name": "python3"
  },
  "language_info": {
   "codemirror_mode": {
    "name": "ipython",
    "version": 3
   },
   "file_extension": ".py",
   "mimetype": "text/x-python",
   "name": "python",
   "nbconvert_exporter": "python",
   "pygments_lexer": "ipython3",
   "version": "3.8.6-final"
  }
 },
 "nbformat": 4,
 "nbformat_minor": 2
}