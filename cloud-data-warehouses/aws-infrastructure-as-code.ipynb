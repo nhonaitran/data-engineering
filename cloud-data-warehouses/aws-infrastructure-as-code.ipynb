{
 "cells": [
  {
   "cell_type": "markdown",
   "id": "executive-offer",
   "metadata": {},
   "source": [
    "# Building ETL pipeline with boto3 and S3"
   ]
  },
  {
   "cell_type": "markdown",
   "id": "pressing-league",
   "metadata": {},
   "source": [
    "This notebook demonstrate how to use boto3, the python SDK for AWS, to work with AWS S3 buckets and objects directly with Python scripts."
   ]
  },
  {
   "cell_type": "markdown",
   "id": "facial-teens",
   "metadata": {},
   "source": [
    "## Installation\n",
    "\n",
    "To install boto3 on your computer, assuming that you already setup the virtual environment, run the following:"
   ]
  },
  {
   "cell_type": "code",
   "execution_count": 1,
   "id": "fantastic-bosnia",
   "metadata": {},
   "outputs": [
    {
     "name": "stdout",
     "output_type": "stream",
     "text": [
      "Requirement already satisfied: boto3 in ./.venv/lib/python3.8/site-packages (1.16.56)\n",
      "Requirement already satisfied: jmespath<1.0.0,>=0.7.1 in ./.venv/lib/python3.8/site-packages (from boto3) (0.10.0)\n",
      "Requirement already satisfied: s3transfer<0.4.0,>=0.3.0 in ./.venv/lib/python3.8/site-packages (from boto3) (0.3.4)\n",
      "Requirement already satisfied: botocore<1.20.0,>=1.19.56 in ./.venv/lib/python3.8/site-packages (from boto3) (1.19.56)\n",
      "Requirement already satisfied: urllib3<1.27,>=1.25.4 in ./.venv/lib/python3.8/site-packages (from botocore<1.20.0,>=1.19.56->boto3) (1.26.2)\n",
      "Requirement already satisfied: python-dateutil<3.0.0,>=2.1 in ./.venv/lib/python3.8/site-packages (from botocore<1.20.0,>=1.19.56->boto3) (2.8.1)\n",
      "Requirement already satisfied: six>=1.5 in ./.venv/lib/python3.8/site-packages (from python-dateutil<3.0.0,>=2.1->botocore<1.20.0,>=1.19.56->boto3) (1.15.0)\n",
      "Note: you may need to restart the kernel to use updated packages.\n"
     ]
    }
   ],
   "source": [
    "pip install boto3"
   ]
  },
  {
   "cell_type": "markdown",
   "id": "worth-foundation",
   "metadata": {},
   "source": [
    "In order to interact with the AWS buckets and objects, we need to have an IAM account that have access to S3.\n",
    "\n",
    "Go to AWS console dashboard, and create a new IAM user.  Make sure you select the `programmatic access` checkbox.  This will ensure that this user will be able to work with any AWS supported SDK or make separate API calls.\n",
    "\n",
    "You'll need to associate this user with `AmazonS3FullAccess` policy. "
   ]
  }
 ],
 "metadata": {
  "kernelspec": {
   "display_name": "Python 3",
   "language": "python",
   "name": "python3"
  },
  "language_info": {
   "codemirror_mode": {
    "name": "ipython",
    "version": 3
   },
   "file_extension": ".py",
   "mimetype": "text/x-python",
   "name": "python",
   "nbconvert_exporter": "python",
   "pygments_lexer": "ipython3",
   "version": "3.8.5"
  }
 },
 "nbformat": 4,
 "nbformat_minor": 5
}
